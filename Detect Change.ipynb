{
 "cells": [
  {
   "cell_type": "code",
   "execution_count": null,
   "id": "ef56bc76-c650-4baf-8c92-6c6f1b0a9c0a",
   "metadata": {},
   "outputs": [],
   "source": [
    "import sys, cv2, numpy as np\n",
    "\n",
    "from PIL import Image\n",
    "import numpy as np\n",
    "import cv2\n",
    "\n",
    "img = Image.open(\"/Users/edward/Desktop/IMG_1308.png\")\n",
    "img"
   ]
  },
  {
   "cell_type": "markdown",
   "id": "588dbd5b-e11d-418e-9bdb-a3d1bcf587bc",
   "metadata": {},
   "source": [
    "# Convert to grayscale"
   ]
  },
  {
   "cell_type": "code",
   "execution_count": null,
   "id": "e2f6eabe-3295-4780-b2d8-5d0760b90c9d",
   "metadata": {},
   "outputs": [],
   "source": [
    "np_img = np.array(img)\n",
    "\n",
    "cv_img = cv2.cvtColor(np_img, cv2.COLOR_RGB2BGR)\n",
    "\n",
    "gray = cv2.cvtColor(cv_img, cv2.COLOR_BGR2GRAY)\n",
    "\n",
    "Image.fromarray(\n",
    "    cv2.cvtColor(gray, cv2.COLOR_BGR2RGB)\n",
    ")"
   ]
  },
  {
   "cell_type": "markdown",
   "id": "20d73ee2-09d5-4649-b5d2-258cc7ba0e41",
   "metadata": {},
   "source": [
    "# Apply Gaussian blur"
   ]
  },
  {
   "cell_type": "code",
   "execution_count": null,
   "id": "f13d4136-6830-4cf1-a63a-1740321cb52a",
   "metadata": {},
   "outputs": [],
   "source": [
    "blurred = cv2.GaussianBlur(gray, (9, 9), 2)          # denoise\n",
    "\n",
    "Image.fromarray(\n",
    "    cv2.cvtColor(blurred, cv2.COLOR_BGR2RGB)\n",
    ")"
   ]
  },
  {
   "cell_type": "markdown",
   "id": "3bd19310-6e3c-4090-8be1-14032b5b42e3",
   "metadata": {},
   "source": [
    "# Run Hough Transform"
   ]
  },
  {
   "cell_type": "code",
   "execution_count": null,
   "id": "7941f979-563e-4819-9e33-ff456613cb3f",
   "metadata": {},
   "outputs": [],
   "source": [
    "import IPython.display\n",
    "\n",
    "import ipywidgets as widgets\n",
    "\n",
    "from ipywidgets import interact\n",
    "\n",
    "def detect_and_show(min_radius):\n",
    "    circles = cv2.HoughCircles(\n",
    "        blurred,\n",
    "        cv2.HOUGH_GRADIENT,\n",
    "        dp=1.2,                # accumulator resolution (lower = more sensitive)\n",
    "        minDist=55,            # min center distance (avoid double hits)\n",
    "        param1=150,            # Canny high threshold\n",
    "        param2=60,             # accumulator threshold (lower = more detections, more false)\n",
    "        minRadius=min_radius,          # px; keep small to be permissive\n",
    "        maxRadius=200          # px; adjust to your image scale\n",
    "    )\n",
    "\n",
    "    out = cv_img.copy()\n",
    "    \n",
    "    for x, y, r in np.round(circles[0]).astype(int):\n",
    "        cv2.circle(out, (x,y), r, (0,255,0), 2)\n",
    "        cv2.circle(out, (x,y), 2, (0,0,255), 2)\n",
    "    \n",
    "    IPython.display.display(\n",
    "        Image.fromarray(\n",
    "            cv2.cvtColor(out, cv2.COLOR_BGR2RGB)\n",
    "        )\n",
    "    )\n",
    "\n",
    "interact(\n",
    "    detect_and_show,\n",
    "    min_radius=widgets.IntSlider(value=20, min=75, max=150, step=1, description=\"minRadius\"),\n",
    ");"
   ]
  }
 ],
 "metadata": {
  "kernelspec": {
   "display_name": "Python 3 (ipykernel)",
   "language": "python",
   "name": "python3"
  },
  "language_info": {
   "codemirror_mode": {
    "name": "ipython",
    "version": 3
   },
   "file_extension": ".py",
   "mimetype": "text/x-python",
   "name": "python",
   "nbconvert_exporter": "python",
   "pygments_lexer": "ipython3",
   "version": "3.12.0"
  }
 },
 "nbformat": 4,
 "nbformat_minor": 5
}
